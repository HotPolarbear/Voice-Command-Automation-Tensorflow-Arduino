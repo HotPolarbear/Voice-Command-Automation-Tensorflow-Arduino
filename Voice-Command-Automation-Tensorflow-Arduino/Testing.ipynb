{
 "cells": [
  {
   "cell_type": "code",
   "execution_count": 1,
   "metadata": {},
   "outputs": [
    {
     "name": "stdout",
     "output_type": "stream",
     "text": [
      "Requirement already satisfied: sounddevice in /opt/anaconda3/envs/Projects/lib/python3.12/site-packages (0.5.1)\n",
      "Requirement already satisfied: CFFI>=1.0 in /opt/anaconda3/envs/Projects/lib/python3.12/site-packages (from sounddevice) (1.17.1)\n",
      "Requirement already satisfied: pycparser in /opt/anaconda3/envs/Projects/lib/python3.12/site-packages (from CFFI>=1.0->sounddevice) (2.22)\n"
     ]
    }
   ],
   "source": [
    "!pip install sounddevice"
   ]
  },
  {
   "cell_type": "code",
   "execution_count": 90,
   "metadata": {},
   "outputs": [],
   "source": [
    "import  tensorflow_io as tfio\n",
    "import numpy as np\n",
    "import tensorflow as tf\n",
    "import matplotlib.pyplot as plt\n",
    "import sounddevice as sd\n",
    "import wave\n",
    "from pydub import AudioSegment"
   ]
  },
  {
   "cell_type": "code",
   "execution_count": null,
   "metadata": {},
   "outputs": [],
   "source": [
    "def record_audio(file_name, duration, sample_rate=16000):\n",
    "    print(f\"Recording for {duration} seconds...\")\n",
    "    \n",
    "    # Record audio\n",
    "    audio_data = sd.rec(int(duration * sample_rate), samplerate=sample_rate, channels=1, dtype='int16')\n",
    "    sd.wait()  # Wait for the recording to complete\n",
    "    print(\"Recording complete.\")\n",
    "    \n",
    "    # Save the recorded audio to a .wav file\n",
    "    with wave.open(file_name, 'wb') as wf:\n",
    "        wf.setnchannels(1)  # Mono channel\n",
    "        wf.setsampwidth(2) \n",
    "        wf.setframerate(sample_rate)\n",
    "        wf.writeframes(audio_data.tobytes())\n",
    "    \n",
    "    print(f\"Audio saved as {file_name}.\")"
   ]
  },
  {
   "cell_type": "code",
   "execution_count": 155,
   "metadata": {},
   "outputs": [
    {
     "name": "stdout",
     "output_type": "stream",
     "text": [
      "Recording for 1 seconds...\n",
      "Recording complete.\n",
      "Audio saved as output.wav.\n"
     ]
    }
   ],
   "source": [
    "output_file = \"output.wav\"\n",
    "record_duration = 1  # Duration in seconds\n",
    "record_audio(output_file, record_duration)"
   ]
  },
  {
   "cell_type": "code",
   "execution_count": 156,
   "metadata": {},
   "outputs": [],
   "source": [
    "def mono_16k(path):\n",
    "    file_contents = tf.io.read_file(path)\n",
    "    wav ,sample_rate = tf.audio.decode_wav(file_contents, desired_channels = 1)\n",
    "    wav = tf.squeeze(wav, axis = -1)\n",
    "    sample_rate = tf.cast(sample_rate, dtype= tf.int64)\n",
    "    #wav = tfio.audio.resample(wav, rate_in = sample_rate, rate_out = 16000)\n",
    "    return wav"
   ]
  },
  {
   "cell_type": "code",
   "execution_count": 157,
   "metadata": {},
   "outputs": [
    {
     "data": {
      "text/plain": [
       "<tf.Tensor: shape=(1,), dtype=int32, numpy=array([16000], dtype=int32)>"
      ]
     },
     "execution_count": 157,
     "metadata": {},
     "output_type": "execute_result"
    }
   ],
   "source": [
    "\n",
    "#path='/Users/hotpolarbear/Documents/Programs/Projects/Voice Automation/Voice-Command-Automation-Tensorflow-Arduino/Split-Dataset/test/two/0f250098_nohash_1.wav'\n",
    "path='output.wav'\n",
    "wav=mono_16k(path)\n",
    "tf.shape(wav)"
   ]
  },
  {
   "cell_type": "code",
   "execution_count": null,
   "metadata": {},
   "outputs": [],
   "source": [
    "def make_spectrogram(wav, sample_rate=16000):\n",
    "    # Compute STFT\n",
    "    stft = tf.signal.stft(wav, frame_length=512, frame_step=256, fft_length=512)\n",
    "    spectrogram = tf.abs(stft)\n",
    "\n",
    "    # Convert to Mel Spectrogram (128 Mel bins)\n",
    "    num_mel_bins = 128\n",
    "    num_spectrogram_bins = tf.shape(spectrogram)[-1]\n",
    "\n",
    "    # Compute Mel filterbank\n",
    "    mel_filterbank = tf.signal.linear_to_mel_weight_matrix(\n",
    "        num_mel_bins=num_mel_bins,\n",
    "        num_spectrogram_bins=num_spectrogram_bins,\n",
    "        sample_rate=sample_rate,\n",
    "        lower_edge_hertz=80.0,\n",
    "        upper_edge_hertz=7600.0\n",
    "    )\n",
    "\n",
    "    # Apply Mel filter\n",
    "    mel_spectrogram = tf.tensordot(spectrogram, tf.cast(mel_filterbank, dtype=tf.float32), axes=(-1, 0))\n",
    "    mel_spectrogram = tf.expand_dims(mel_spectrogram, axis=-1)  # Shape: (Time, Freq, 1)\n",
    "\n",
    "    mel_spectrogram = tf.image.resize(mel_spectrogram, (128, 128))\n",
    "\n",
    "    return mel_spectrogram"
   ]
  },
  {
   "cell_type": "code",
   "execution_count": 159,
   "metadata": {},
   "outputs": [
    {
     "data": {
      "text/plain": [
       "<tf.Tensor: shape=(3,), dtype=int32, numpy=array([128, 128,   1], dtype=int32)>"
      ]
     },
     "execution_count": 159,
     "metadata": {},
     "output_type": "execute_result"
    }
   ],
   "source": [
    "spectogram=make_spectrogram(wav)\n",
    "tf.shape(spectogram)\n"
   ]
  },
  {
   "cell_type": "code",
   "execution_count": 160,
   "metadata": {},
   "outputs": [],
   "source": [
    "model=tf.keras.models.load_model('VCA_6M_9336.keras')"
   ]
  },
  {
   "cell_type": "code",
   "execution_count": 161,
   "metadata": {},
   "outputs": [
    {
     "name": "stdout",
     "output_type": "stream",
     "text": [
      "(None, 128, 128, 1)\n",
      "tf.Tensor([128 128   1], shape=(3,), dtype=int32)\n"
     ]
    }
   ],
   "source": [
    "config = model.get_config() # Returns pretty much every information about your model\n",
    "print(config[\"layers\"][0][\"config\"][\"batch_shape\"])\n",
    "print(tf.shape(spectogram))"
   ]
  },
  {
   "cell_type": "code",
   "execution_count": 162,
   "metadata": {},
   "outputs": [],
   "source": [
    "spectogram = spectogram[tf.newaxis,...]"
   ]
  },
  {
   "cell_type": "code",
   "execution_count": 163,
   "metadata": {},
   "outputs": [
    {
     "name": "stdout",
     "output_type": "stream",
     "text": [
      "\u001b[1m1/1\u001b[0m \u001b[32m━━━━━━━━━━━━━━━━━━━━\u001b[0m\u001b[37m\u001b[0m \u001b[1m0s\u001b[0m 75ms/step\n"
     ]
    },
    {
     "data": {
      "text/plain": [
       "array([[1.4225566e-13, 3.7695944e-10, 1.1320648e-07, 2.2696490e-06,\n",
       "        9.9999762e-01, 1.8593838e-10, 1.0527939e-13, 1.1638628e-11,\n",
       "        3.8059753e-15, 2.6923622e-15]], dtype=float32)"
      ]
     },
     "execution_count": 163,
     "metadata": {},
     "output_type": "execute_result"
    }
   ],
   "source": [
    "prediction=model.predict(spectogram)\n",
    "prediction"
   ]
  },
  {
   "cell_type": "code",
   "execution_count": 164,
   "metadata": {},
   "outputs": [
    {
     "name": "stdout",
     "output_type": "stream",
     "text": [
      "0.9999976\n"
     ]
    }
   ],
   "source": [
    "o=max(prediction[0])\n",
    "print(o)\n",
    "prediction[0]\n",
    "ind_np = ((np.where(prediction[0] ==o ))[0])\n",
    "index = (ind_np[0])"
   ]
  },
  {
   "cell_type": "code",
   "execution_count": 165,
   "metadata": {},
   "outputs": [
    {
     "name": "stdout",
     "output_type": "stream",
     "text": [
      "one\n"
     ]
    }
   ],
   "source": [
    "labels=['eight', 'five', 'four', 'nine', 'one', 'seven', 'six', 'three','two', 'zero']\n",
    "print(labels[index])"
   ]
  },
  {
   "cell_type": "code",
   "execution_count": 170,
   "metadata": {},
   "outputs": [
    {
     "data": {
      "text/plain": [
       "9"
      ]
     },
     "execution_count": 170,
     "metadata": {},
     "output_type": "execute_result"
    }
   ],
   "source": [
    "conversion={'zero': 0, 'one': 1, 'two': 2, 'three' : 3, 'four': 4, 'five': 5, 'six': 6, 'seven': 7, 'eight': 8, 'nine': 9}\n",
    "conversion['nine']"
   ]
  },
  {
   "cell_type": "code",
   "execution_count": null,
   "metadata": {},
   "outputs": [],
   "source": []
  }
 ],
 "metadata": {
  "kernelspec": {
   "display_name": "Projects",
   "language": "python",
   "name": "python3"
  },
  "language_info": {
   "codemirror_mode": {
    "name": "ipython",
    "version": 3
   },
   "file_extension": ".py",
   "mimetype": "text/x-python",
   "name": "python",
   "nbconvert_exporter": "python",
   "pygments_lexer": "ipython3",
   "version": "3.12.9"
  }
 },
 "nbformat": 4,
 "nbformat_minor": 2
}
