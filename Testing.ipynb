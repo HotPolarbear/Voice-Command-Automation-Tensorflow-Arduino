{
 "cells": [
  {
   "cell_type": "code",
   "execution_count": 3,
   "metadata": {},
   "outputs": [
    {
     "name": "stdout",
     "output_type": "stream",
     "text": [
      "Collecting sounddevice\n",
      "  Downloading sounddevice-0.5.1-py3-none-macosx_10_6_x86_64.macosx_10_6_universal2.whl.metadata (1.4 kB)\n",
      "Collecting CFFI>=1.0 (from sounddevice)\n",
      "  Downloading cffi-1.17.1-cp39-cp39-macosx_11_0_arm64.whl.metadata (1.5 kB)\n",
      "Collecting pycparser (from CFFI>=1.0->sounddevice)\n",
      "  Downloading pycparser-2.22-py3-none-any.whl.metadata (943 bytes)\n",
      "Downloading sounddevice-0.5.1-py3-none-macosx_10_6_x86_64.macosx_10_6_universal2.whl (107 kB)\n",
      "Downloading cffi-1.17.1-cp39-cp39-macosx_11_0_arm64.whl (178 kB)\n",
      "Downloading pycparser-2.22-py3-none-any.whl (117 kB)\n",
      "Installing collected packages: pycparser, CFFI, sounddevice\n",
      "Successfully installed CFFI-1.17.1 pycparser-2.22 sounddevice-0.5.1\n"
     ]
    }
   ],
   "source": [
    "!pip install sounddevice"
   ]
  },
  {
   "cell_type": "code",
   "execution_count": 76,
   "metadata": {},
   "outputs": [],
   "source": [
    "import  tensorflow_io as tfio\n",
    "import numpy as np\n",
    "import tensorflow as tf\n",
    "import matplotlib.pyplot as plt\n",
    "import sounddevice as sd\n",
    "import wave"
   ]
  },
  {
   "cell_type": "code",
   "execution_count": 113,
   "metadata": {},
   "outputs": [],
   "source": [
    "def record_audio(file_name, duration, sample_rate=44100):\n",
    "    \"\"\"\n",
    "    Records audio from the default microphone and saves it as a .wav file.\n",
    "\n",
    "    Parameters:\n",
    "        file_name (str): Name of the file to save (e.g., \"output.wav\").\n",
    "        duration (int): Duration of the recording in seconds.\n",
    "        sample_rate (int): Sample rate for the recording (default is 44100 Hz).\n",
    "    \"\"\"\n",
    "    print(f\"Recording for {duration} seconds...\")\n",
    "    \n",
    "    # Record audio\n",
    "    audio_data = sd.rec(int(duration * sample_rate), samplerate=sample_rate, channels=1, dtype='int16')\n",
    "    sd.wait()  # Wait for the recording to complete\n",
    "    print(\"Recording complete.\")\n",
    "    \n",
    "    # Save the recorded audio to a .wav file\n",
    "    with wave.open(file_name, 'wb') as wf:\n",
    "        wf.setnchannels(1)  # Mono channel\n",
    "        wf.setsampwidth(2)  # 2 bytes per sample (16-bit audio)\n",
    "        wf.setframerate(sample_rate)\n",
    "        wf.writeframes(audio_data.tobytes())\n",
    "    \n",
    "    print(f\"Audio saved as {file_name}.\")"
   ]
  },
  {
   "cell_type": "code",
   "execution_count": 126,
   "metadata": {},
   "outputs": [
    {
     "name": "stdout",
     "output_type": "stream",
     "text": [
      "Recording for 1 seconds...\n",
      "Recording complete.\n",
      "Audio saved as output.wav.\n"
     ]
    }
   ],
   "source": [
    "output_file = \"output.wav\"\n",
    "record_duration = 1  # Duration in seconds\n",
    "record_audio(output_file, record_duration)"
   ]
  },
  {
   "cell_type": "code",
   "execution_count": 127,
   "metadata": {},
   "outputs": [],
   "source": [
    "def mono_16k(path):\n",
    "    file_contents = tf.io.read_file(path)\n",
    "    wav ,sample_rate = tf.audio.decode_wav(file_contents, desired_channels = 1)\n",
    "    wav = tf.squeeze(wav, axis = -1)\n",
    "    sample_rate = tf.cast(sample_rate, dtype= tf.int64)\n",
    "    #wav = tfio.audio.resample(wav, rate_in = sample_rate, rate_out = 16000)\n",
    "    return wav"
   ]
  },
  {
   "cell_type": "code",
   "execution_count": 128,
   "metadata": {},
   "outputs": [
    {
     "name": "stdout",
     "output_type": "stream",
     "text": [
      "tf.Tensor([0.00015259 0.00027466 0.00027466 ... 0.00067139 0.0007019  0.00067139], shape=(44100,), dtype=float32)\n"
     ]
    },
    {
     "data": {
      "text/plain": [
       "<tf.Tensor: shape=(1,), dtype=int32, numpy=array([44100], dtype=int32)>"
      ]
     },
     "execution_count": 128,
     "metadata": {},
     "output_type": "execute_result"
    }
   ],
   "source": [
    "path='output.wav'\n",
    "k=mono_16k(path)\n",
    "print(k)\n",
    "tf.shape(k)"
   ]
  },
  {
   "cell_type": "code",
   "execution_count": 129,
   "metadata": {},
   "outputs": [],
   "source": [
    "def make_spectrogram(wav):\n",
    "  input_len = 16000\n",
    "  wav = wav[:input_len]\n",
    "  zero_padding = tf.zeros([16000] - tf.shape(wav),dtype=tf.float32)\n",
    "  wav = tf.cast(wav, dtype=tf.float32)\n",
    "  equal_length = tf.concat([wav, zero_padding], 0)\n",
    "  spectrogram = tf.signal.stft(equal_length, frame_length=320, frame_step=32)\n",
    "  spectrogram = tf.abs(spectrogram)\n",
    "  spectrogram = tf.expand_dims(spectrogram, axis =2)\n",
    "\n",
    "\n",
    "  return spectrogram\n",
    "\n",
    "spectogram=make_spectrogram(k)"
   ]
  },
  {
   "cell_type": "code",
   "execution_count": 130,
   "metadata": {},
   "outputs": [
    {
     "data": {
      "text/plain": [
       "<tf.Tensor: shape=(3,), dtype=int32, numpy=array([491,   1, 257], dtype=int32)>"
      ]
     },
     "execution_count": 130,
     "metadata": {},
     "output_type": "execute_result"
    }
   ],
   "source": [
    "spectogram=tf.reshape(spectogram, (491, 1, 257))\n",
    "tf.shape(spectogram)\n"
   ]
  },
  {
   "cell_type": "code",
   "execution_count": 131,
   "metadata": {},
   "outputs": [],
   "source": [
    "model=tf.keras.models.load_model('Model_23M_9089.keras')"
   ]
  },
  {
   "cell_type": "code",
   "execution_count": 132,
   "metadata": {},
   "outputs": [
    {
     "name": "stdout",
     "output_type": "stream",
     "text": [
      "(None, 491, 1, 257)\n",
      "tf.Tensor([491   1 257], shape=(3,), dtype=int32)\n"
     ]
    }
   ],
   "source": [
    "config = model.get_config() # Returns pretty much every information about your model\n",
    "print(config[\"layers\"][0][\"config\"][\"batch_shape\"])\n",
    "print(tf.shape(spectogram))"
   ]
  },
  {
   "cell_type": "code",
   "execution_count": 133,
   "metadata": {},
   "outputs": [],
   "source": [
    "spectogram = spectogram[tf.newaxis,...]"
   ]
  },
  {
   "cell_type": "code",
   "execution_count": 134,
   "metadata": {},
   "outputs": [
    {
     "name": "stdout",
     "output_type": "stream",
     "text": [
      "\u001b[1m1/1\u001b[0m \u001b[32m━━━━━━━━━━━━━━━━━━━━\u001b[0m\u001b[37m\u001b[0m \u001b[1m0s\u001b[0m 48ms/step\n"
     ]
    }
   ],
   "source": [
    "prediction=model.predict(spectogram)"
   ]
  },
  {
   "cell_type": "code",
   "execution_count": 135,
   "metadata": {},
   "outputs": [
    {
     "name": "stdout",
     "output_type": "stream",
     "text": [
      "0.80324745\n"
     ]
    }
   ],
   "source": [
    "o=max(prediction[0])\n",
    "print(o)\n",
    "prediction[0]\n",
    "ind_np = ((np.where(prediction[0] ==o ))[0])\n",
    "index = (ind_np[0])"
   ]
  },
  {
   "cell_type": "code",
   "execution_count": 136,
   "metadata": {},
   "outputs": [
    {
     "name": "stdout",
     "output_type": "stream",
     "text": [
      "five\n"
     ]
    }
   ],
   "source": [
    "labels=['eight', 'nine', 'three', 'one', 'zero', 'seven', 'two', 'six', 'five', 'four']\n",
    "print(labels[index])"
   ]
  },
  {
   "cell_type": "code",
   "execution_count": null,
   "metadata": {},
   "outputs": [],
   "source": []
  }
 ],
 "metadata": {
  "kernelspec": {
   "display_name": ".venv",
   "language": "python",
   "name": "python3"
  },
  "language_info": {
   "codemirror_mode": {
    "name": "ipython",
    "version": 3
   },
   "file_extension": ".py",
   "mimetype": "text/x-python",
   "name": "python",
   "nbconvert_exporter": "python",
   "pygments_lexer": "ipython3",
   "version": "3.9.6"
  }
 },
 "nbformat": 4,
 "nbformat_minor": 2
}
